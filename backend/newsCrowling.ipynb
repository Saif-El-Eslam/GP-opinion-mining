{
 "cells": [
  {
   "cell_type": "code",
   "execution_count": 83,
   "metadata": {},
   "outputs": [],
   "source": [
    "from newsapi import NewsApiClient\n",
    "import json\n",
    "import requests\n"
   ]
  },
  {
   "cell_type": "code",
   "execution_count": 84,
   "metadata": {},
   "outputs": [],
   "source": [
    "allTopics= False\n",
    "num_topics=10\n",
    "start_date='2023-01-25'\n",
    "end_date='2023-02-20'\n",
    "topic='bitcoin'\n",
    "sort_by='relevancy'\n",
    "API_KEY='37ac47e431c2496fbe665db359687bf0'"
   ]
  },
  {
   "cell_type": "code",
   "execution_count": 85,
   "metadata": {},
   "outputs": [
    {
     "name": "stdout",
     "output_type": "stream",
     "text": [
      "Bitcoin Investors Are Plotting a Major Coup\n",
      "OnePlus Pad Android Tablet: Details, Specs, Release Date\n",
      "Bitcoin Miners Are Playing a High-Stakes Game of Chicken\n",
      "El Salvador Is Planning a 'Bitcoin Embassy' in Texas After Losing Tens of Millions on Crypto\n",
      "Cryptoverse: Big investors edge back to bitcoin - Reuters\n",
      "Warren Buffett's business partner rips into 'cryptocrappo' - and says he's ashamed of America for embracing bitcoin and its kin\n",
      "El Salvador is opening a 'bitcoin embassy' in Texas in a bid to promote more acceptance of crypto\n",
      "Is bitcoin being manipulated? A professor who proved it in 2017 sees more red flags, report says.\n",
      "Cathie Wood's Ark Invest says bitcoin could hit $1.5 million by 2030, doubling down on its bullishness for the world's largest cryptocurrency\n",
      "Grayscale would appeal lawsuit against SEC if court rejects case ... - Reuters\n"
     ]
    }
   ],
   "source": [
    "\n",
    "if allTopics:\n",
    "    # set the News API endpoint and API key\n",
    "    url = 'https://newsapi.org/v2/top-headlines'\n",
    "\n",
    "    # set the query parameters for the News API request\n",
    "    params = {\n",
    "        'apiKey': API_KEY,\n",
    "        'country': 'us',\n",
    "        'pageSize': 10,  # set the number of results you want to get\n",
    "        'page': 1,\n",
    "        'sortBy': 'popularity',\n",
    "        'q': '',\n",
    "        'from': start_date,\n",
    "        'to': end_date\n",
    "    }\n",
    "\n",
    "    # send the request to the News API and get the response\n",
    "    response = requests.get(url, params=params)\n",
    "    if response.status_code == 200:\n",
    "        articles =response.json()['articles']\n",
    "        for article in articles:\n",
    "            print(article['title'])\n",
    "    else:\n",
    "        print('Error:', response.status_code)\n",
    "\n",
    "    \n",
    "else:\n",
    "    url = 'https://newsapi.org/v2/everything'\n",
    "    params = {\n",
    "        'apiKey': API_KEY,\n",
    "        'q': topic,\n",
    "        'from': start_date,\n",
    "        'to': end_date,\n",
    "        'sortBy': sort_by,\n",
    "        'pageSize': 10,  # set the number of results you want to get\n",
    "        'page': 1\n",
    "    }\n",
    "    response = requests.get(url, params=params)\n",
    "    if response.status_code == 200:\n",
    "        articles =response.json()['articles']\n",
    "        for article in articles:\n",
    "            print(article['title'])\n",
    "    else:\n",
    "        print('Error:', response.status_code)\n",
    "    \n"
   ]
  },
  {
   "cell_type": "code",
   "execution_count": 87,
   "metadata": {},
   "outputs": [],
   "source": [
    "\n",
    "\n",
    "\n",
    "# get the content of a url page\n",
    "import requests\n",
    "from bs4 import BeautifulSoup\n",
    "top_articles = []\n",
    "#iterate through num_topics\n",
    "for i in range(num_topics):\n",
    "    url = articles[i]['url']\n",
    "    page = requests.get(url)\n",
    "    soup = BeautifulSoup(page.content, 'html.parser')\n",
    "    paragraphs = soup.find_all('p')\n",
    "    article_text = \"\"\n",
    "    for p in paragraphs:\n",
    "        article_text += p.text\n",
    "    top_articles.append({'title':articles[i]['title'],'text':article_text})\n",
    "\n",
    "# print(json.dumps(top_articles, indent=4, sort_keys=True))\n",
    "\n",
    "# save the data to a file for later use\n",
    "save_path = 'data.json'\n",
    "\n",
    "with open(save_path, 'w') as f:\n",
    "    json.dump(top_articles, f, indent=4, sort_keys=True)\n",
    "\n",
    "\n",
    "    "
   ]
  }
 ],
 "metadata": {
  "kernelspec": {
   "display_name": "Python 3",
   "language": "python",
   "name": "python3"
  },
  "language_info": {
   "codemirror_mode": {
    "name": "ipython",
    "version": 3
   },
   "file_extension": ".py",
   "mimetype": "text/x-python",
   "name": "python",
   "nbconvert_exporter": "python",
   "pygments_lexer": "ipython3",
   "version": "3.10.7"
  },
  "orig_nbformat": 4,
  "vscode": {
   "interpreter": {
    "hash": "c706bd7bc445dcc0b0bf5c4b7eb78bccecaba90312e54094e8ee77db032da0d8"
   }
  }
 },
 "nbformat": 4,
 "nbformat_minor": 2
}

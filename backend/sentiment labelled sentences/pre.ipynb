{
 "cells": [
  {
   "cell_type": "code",
   "execution_count": 16,
   "metadata": {},
   "outputs": [
    {
     "name": "stdout",
     "output_type": "stream",
     "text": [
      "(3000, 2)\n"
     ]
    }
   ],
   "source": [
    "# read txt file and convert it to csv file\n",
    "# input: txt file\n",
    "# output: csv file\n",
    "\n",
    "import pandas as pd\n",
    "import numpy as np\n",
    "import os\n",
    "import re\n",
    "\n",
    "# read txt file\n",
    "def read_txt(path):\n",
    "    with open(path, 'r') as f:\n",
    "        data = f.readlines()\n",
    "    return data\n",
    "\n",
    "data1=read_txt('yelp_labelled.txt')\n",
    "data2=read_txt('amazon_cells_labelled.txt')\n",
    "data3=read_txt('imdb_labelled.txt')\n",
    "\n",
    "# concatenate three txt files\n",
    "data = data1 + data2 + data3\n",
    "data\n",
    "\n",
    "# convert txt file to csv file\n",
    "newData = [] # it cotain two columns: text and label\n",
    "for line in data:\n",
    "    line = line.strip()\n",
    "    line = line.split('\\t')\n",
    "    newData.append(line)\n",
    "newData\n",
    "\n",
    "\n",
    "# convert list to dataframe\n",
    "df = pd.DataFrame(newData, columns=['text', 'label'])\n",
    "# shape of dataframe\n",
    "print(df.shape)\n",
    "# save dataframe to csv file\n",
    "df.to_csv('Train.csv', index=False)\n",
    "\n",
    "\n"
   ]
  },
  {
   "cell_type": "code",
   "execution_count": 28,
   "metadata": {},
   "outputs": [
    {
     "name": "stdout",
     "output_type": "stream",
     "text": [
      "(23754, 2)\n"
     ]
    }
   ],
   "source": [
    "# read traing data\n",
    "train = pd.read_csv('training.txt', sep='\\t', header=None)\n",
    "train.columns = ['label', 'text']\n",
    "# add two pandas.core.frame.DataFrame together\n",
    "df = pd.concat([df, train], axis=0)\n",
    "# shape of dataframe\n",
    "print(df.shape)\n",
    "# save dataframe to csv file\n",
    "df.to_csv('Train.csv', index=False)\n",
    "\n",
    "# read test data\n",
    "test = pd.read_csv('testdata.txt', sep='\\t', header=None)\n",
    "test.columns = ['text']\n",
    "# save dataframe to csv file\n",
    "test.to_csv('Test.csv', index=False)\n",
    "\n",
    "\n",
    "\n"
   ]
  }
 ],
 "metadata": {
  "kernelspec": {
   "display_name": "Python 3",
   "language": "python",
   "name": "python3"
  },
  "language_info": {
   "codemirror_mode": {
    "name": "ipython",
    "version": 3
   },
   "file_extension": ".py",
   "mimetype": "text/x-python",
   "name": "python",
   "nbconvert_exporter": "python",
   "pygments_lexer": "ipython3",
   "version": "3.10.7"
  },
  "orig_nbformat": 4
 },
 "nbformat": 4,
 "nbformat_minor": 2
}
